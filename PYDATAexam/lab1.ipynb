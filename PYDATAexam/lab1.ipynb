{
 "cells": [
  {
   "cell_type": "code",
   "execution_count": 39,
   "metadata": {},
   "outputs": [
    {
     "name": "stdout",
     "output_type": "stream",
     "text": [
      "﻿<!DOCTYPE html>\n",
      "<html>  \n",
      "  <head>    \n",
      "   <meta charset=\"utf-8\">    \n",
      "   <title>TEST</title>  \n",
      "  </head>  \n",
      "  <body>   \n",
      "    <h1 style='color : red'>카테고리 : 역사</h1>\n",
      "    <h2 style='color : blue'>페이지 : 25</h2>   \n",
      "  </body>\n",
      "</html>\n"
     ]
    }
   ],
   "source": [
    "import urllib.request\n",
    "import urllib.parse\n",
    "# get방식으로 요청하면서 쿼리 문자열을 보낼때, 딕셔너리의 형태로 보내게 된다. (urlenconde)\n",
    "params = urllib.parse.urlencode({'category':'역사','page':25})\n",
    "\n",
    "# ? 기호 뒤에 쿼리문자열\n",
    "url = \"http://unico2013.dothome.co.kr/crawling/exercise.php?%s\" % params\n",
    "with urllib.request.urlopen(url) as f: # 서버요청은 urlopen\n",
    "    print(f.read().decode('utf-8')) # read로 읽어온다.  # read 하고 decode"
   ]
  },
  {
   "cell_type": "code",
   "execution_count": 38,
   "metadata": {},
   "outputs": [
    {
     "name": "stdout",
     "output_type": "stream",
     "text": [
      "﻿<!DOCTYPE html>\n",
      "<html>  \n",
      "  <head>    \n",
      "   <meta charset=\"utf-8\">    \n",
      "   <title>TEST</title>  \n",
      "  </head>  \n",
      "  <body>   \n",
      "    <h1 style='color : red'>카테고리 : 분석</h1>\n",
      "    <h2 style='color : blue'>페이지 : 30</h2>   \n",
      "  </body>\n",
      "</html>\n"
     ]
    }
   ],
   "source": [
    "query = urllib.parse.urlencode({'category' : '분석', 'page' : 30})\n",
    "url = \"http://unico2013.dothome.co.kr/crawling/exercise.php?%s\" % query\n",
    "with urllib.request.urlopen(url) as f: # 서버요청은 urlopen\n",
    "    print(f.read().decode('utf-8')) # read로 읽어온다.  # read 하고 decode"
   ]
  },
  {
   "cell_type": "code",
   "execution_count": 37,
   "metadata": {},
   "outputs": [
    {
     "name": "stdout",
     "output_type": "stream",
     "text": [
      "﻿<!DOCTYPE html>\n",
      "<html>  \n",
      "  <head>    \n",
      "   <meta charset=\"utf-8\">    \n",
      "   <title>TEST</title>  \n",
      "  </head>  \n",
      "  <body>   \n",
      "    <h1 style='color : red'>카테고리 : 여행</h1>\n",
      "    <h2 style='color : blue'>페이지 : 100</h2>   \n",
      "  </body>\n",
      "</html>\n"
     ]
    }
   ],
   "source": [
    "import requests\n",
    "dicdata = {'category':'여행','page':100}\n",
    "url = 'http://unico2013.dothome.co.kr/crawling/exercise.php'\n",
    "r = requests.get(url, params=dicdata)\n",
    "r.encoding = 'utf-8'\n",
    "if r.text :\n",
    "    print(r.text) # 인코딩을 하고 text를 읽어옴. "
   ]
  },
  {
   "cell_type": "code",
   "execution_count": 36,
   "metadata": {},
   "outputs": [
    {
     "name": "stdout",
     "output_type": "stream",
     "text": [
      "﻿<!DOCTYPE html>\n",
      "<html>  \n",
      "  <head>    \n",
      "   <meta charset=\"utf-8\">    \n",
      "   <title>TEST</title>  \n",
      "  </head>  \n",
      "  <body>   \n",
      "    <h1 style='color : red'>카테고리 : 파이썬</h1>\n",
      "    <h2 style='color : blue'>페이지 : 1</h2>   \n",
      "  </body>\n",
      "</html>\n"
     ]
    }
   ],
   "source": [
    "import requests\n",
    "url = 'http://unico2013.dothome.co.kr/crawling/exercise.php'\n",
    "r = requests.get(url, params= {'category':'파이썬','page':1})\n",
    "r.encoding = 'utf-8'\n",
    "print(r.text)"
   ]
  },
  {
   "cell_type": "code",
   "execution_count": null,
   "metadata": {},
   "outputs": [],
   "source": []
  }
 ],
 "metadata": {
  "kernelspec": {
   "display_name": "pydatavenv",
   "language": "python",
   "name": "pydatavenv"
  },
  "language_info": {
   "codemirror_mode": {
    "name": "ipython",
    "version": 3
   },
   "file_extension": ".py",
   "mimetype": "text/x-python",
   "name": "python",
   "nbconvert_exporter": "python",
   "pygments_lexer": "ipython3",
   "version": "3.8.8"
  }
 },
 "nbformat": 4,
 "nbformat_minor": 4
}
