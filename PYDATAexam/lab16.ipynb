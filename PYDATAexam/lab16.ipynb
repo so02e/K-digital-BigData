{
 "cells": [
  {
   "cell_type": "code",
   "execution_count": 4,
   "metadata": {},
   "outputs": [
    {
     "name": "stdout",
     "output_type": "stream",
     "text": [
      "    구별  CCTV수       인구수       한국인      외국인      고령자\n",
      "0  강남구   2780  570500.0  565550.0   4950.0  63167.0\n",
      "1  강동구    773  453233.0  449019.0   4214.0  54622.0\n",
      "2  강북구    748  330192.0  326686.0   3506.0  54813.0\n",
      "3  강서구    884  603772.0  597248.0   6524.0  72548.0\n",
      "4  관악구   1496  525515.0  507203.0  18312.0  68082.0\n"
     ]
    }
   ],
   "source": [
    "import pandas as pd\n",
    "df = pd.read_csv('data/cctv_seoul.csv')\n",
    " \n",
    "# cctv 비율과 노인비율 apply() 이용하여 추가\n",
    "\n",
    "\n",
    "## (1) def를 이용하여 lambda함수를 적용해야 한다.\n",
    "\n",
    "# df['cctv'] = df.apply(lambda x ,axis=1)\n",
    "# df['elder'] = df.apply(lambda x ,axis=1)\n",
    "\n",
    "print(df.head(5))"
   ]
  },
  {
   "cell_type": "code",
   "execution_count": 5,
   "metadata": {},
   "outputs": [
    {
     "name": "stdout",
     "output_type": "stream",
     "text": [
      "                0     1\n",
      "0    201612120944  p001\n",
      "1    201612120944  p003\n",
      "2    201612120944  p003\n",
      "3    201612120945  p008\n",
      "4    201612121052  p008\n",
      "..            ...   ...\n",
      "305  201612141110  p007\n",
      "306  201612141111  p002\n",
      "307  201612141139  p003\n",
      "308  201612141139  p010\n",
      "309  201612141139  p009\n",
      "\n",
      "[310 rows x 2 columns]\n"
     ]
    }
   ],
   "source": [
    "df = pd.read_csv('data/product_click_new.log', header =None, sep = \" \")\n",
    "print(df)\n",
    "\n",
    "\n",
    "# 데이터 프레임 plot 단일 색/ 특정 변수를 추출하면 괜찮다"
   ]
  }
 ],
 "metadata": {
  "kernelspec": {
   "display_name": "pydatavenv",
   "language": "python",
   "name": "pydatavenv"
  },
  "language_info": {
   "codemirror_mode": {
    "name": "ipython",
    "version": 3
   },
   "file_extension": ".py",
   "mimetype": "text/x-python",
   "name": "python",
   "nbconvert_exporter": "python",
   "pygments_lexer": "ipython3",
   "version": "3.8.8"
  }
 },
 "nbformat": 4,
 "nbformat_minor": 4
}
