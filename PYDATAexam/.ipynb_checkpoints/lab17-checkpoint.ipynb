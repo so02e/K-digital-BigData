{
 "cells": [
  {
   "cell_type": "code",
   "execution_count": 45,
   "metadata": {},
   "outputs": [
    {
     "name": "stdout",
     "output_type": "stream",
     "text": [
      "0     며칠전 예약 후 오늘 점심뷔페 잘 먹고 왔습니다. 인테리어도 상당히 깔끔하고 북적거...\n",
      "1     직원들이 일단 너무 친절합니다. 오픈한지 오래 되었다지만 깔끔하게 유지중인듯합니다....\n",
      "2     직원들이 일단 너무 친절합니다. 오픈한지 오래 되었다지만 깔끔하게 유지중인듯합니다....\n",
      "3     늦은 시간 체크인 하게 되었는데 날짜를 착각해 워크인으로 들어갔으나 상황 설명을 하...\n",
      "4     교육차 서울 출장을 왔다가 늦은 시간 예약과 체크아웃 했습니다.핸드폰 충전기를 가져...\n",
      "5     위치나쁘지않고룸컨디션도괜찮다고생각햇는데,, 침대밑에먼지가득에앞투숙객이잊고간짐들도보이...\n",
      "6     주차장이 넓고 객실이 깨끗합니다. 주변에 음식점들이 많고 편의시설이 많습니다. 프론...\n",
      "7     1박 했습니다.강남 부근에서 숙박하기 좋은 호텔입니다.가성비 갑.방 깨끗하고 딱 필...\n",
      "8     객실이 너무깨끗하고 직원분들 서비스가 친절해서 좋았어요!다음에 또 방문하려구요~~어...\n",
      "9     문의전화도 다 친절하게 받아주시고, 고객이 요구하는 커스텀들을 너무 친절하게 응대해...\n",
      "10    침구도좋구 직원들도 너무 친절해서 잘쉬다 갑니다~~다음에 또 방문의사 천프로입니당~...\n",
      "11    매번 서울출장 올때마다 들리는데위치도좋고 깔끔해서 좋네요다들 친절하시고 조식메뉴도 ...\n",
      "12    깨끗하고 직원분들도 친절해서 좋았습니다역삼역과 접근성도 좋고, 강남, 삼성으로 이동...\n",
      "13    서울 강남 한복판에서 조용히 잘 쉬었네요.연식은 조금 느껴지지만군더더기 없이 깔끔합...\n",
      "14    도심에 위치하여 교통 편하고주변에 편의시설이 잘 되어 있습니다내부는 깔끔하고 전망이...\n",
      "15    서울에 출장 올때마다 늘 들립니다.깨끗함은 물론이고 익숙하고 편안한 느낌 덕분에 자...\n",
      "16    너무 편하고 깨끗해요 직원분들도 친절하시고 신라스테이 처음 와봤는데 호텔갈일있으면 ...\n",
      "17    방도 너무 깔끔하고 뷰도 이쁘고 일회용품도 위생적으로 구비되어있어서 좋아요 다음에 ...\n",
      "18    매번 서울 올때마다 들리는 곳인데요 직원분들도 친절하시구 일단 조용하고 깨끗하구요 ...\n",
      "19    입구부터 안전하다 느껴질 정도의 체온체크 및 신상조사. 룸상태 좋구요, 비즈니스 호...\n",
      "20    가격도 착하고 방 상태도 깔끔하고 무엇보다 브랜드에서 주는 신뢰도가 가장 큽니다. ...\n",
      "21    가격대비 너무 좋습니다~ 일단 내부가 너무 깔끔 하네요 ㅎㅎ프론트 직원분들도 친절 ...\n",
      "22    연박 편히 잘 이용했습니다.룸컨디션, 시설, 위치 다 만족스럽고 직원분도 친절하셨어...\n",
      "23    룸컨디션은 물론 여러모로 깨끗하고 편해서편하게 잘 쉬다 왔어요직원님들도 무지 친절하...\n",
      "24    2박 묵는 동안 편하게 잘 지냈습니다.무엇보다 조용하고 교통이 편리하였습니다.직원들...\n",
      "25    2박 묵는 동안 편하게 잘 지냈습니다.무엇보다 조용하고 교통이 편리하였습니다.직원들...\n",
      "26    객실 및 호텔 시설 깨끗하고 좋아요!문의전화 상담도 잘해주시고 직원분들 모두 친절해...\n",
      "27    생각보다 일찍 도착했는데 직원분들이 엄청 친절하시고 얼리체크인 안내도 잘해주셨습니다...\n",
      "28    편안하고 쾌적하게 머물다 갑니다 늘 애용하는 곳이예요-이만한 가격에 이만한 퀄리티 ...\n",
      "29    건물 시설두 깨끗하구 방 침대가 편해서 좋았습니다 엄마도 편하게 잘 지내고 가셨다고...\n",
      "30    편안하고 쾌적하게 머물다 갑니다 늘 애용하는 곳이예요-이만한 가격에 이만한 퀄리티 ...\n",
      "31    방이 깨끗하고 식사가 맛납니다. 주변에 식당이 많아서 즐길거리도 많고. 주차 서비스...\n",
      "32    방이 깨끗하고 식���가 맛납니다. 주변에 식당이 많아서 즐길거리도 많고. 주차 서...\n",
      "33    체크인 시간보다 조금 일찍 도착했는데 준비 되어있는 객실이 있어서 얼리 체크인 해주...\n",
      "34    주말에 1박 묵었는데 쾌척하고 좋았습니다.강남권 비즈니스 호텔 몇군데 묵었는데규모노...\n",
      "35    룸이 전반적으로 깨끗하고 어메니티가 아베다여서 좋습니다주차하기 편해서 자주 올 거 ...\n",
      "36    하루밤 묵었지만 깨끗한 시설과 친절한 스태프분들이 좋았고 레잇 첵아웃도 넉넉하고 다...\n",
      "37    전에도 방문하고 또 재방문해요 강남 지리 잘 모르시는분들은 강추합니다 위치는 어딜가...\n",
      "38    교통도 편리하고 내부도 깔끔해서 좋아요!1층에 바로 카페, 편의점 다 있어서 편했어...\n",
      "39    남자친구랑 화이트데이 기념으로~~신라스테이 역삼에서 보냈는데 직원분들고 친절하시고호...\n",
      "Name: 리뷰내용 , dtype: object\n"
     ]
    }
   ],
   "source": [
    "import pandas as pd\n",
    "\n",
    "\n",
    "review = pd.read_csv('output/naverhotel.txt')\n",
    "hotelreview = review['리뷰내용 ']\n",
    "print(hotelreview)\n"
   ]
  },
  {
   "cell_type": "code",
   "execution_count": 28,
   "metadata": {},
   "outputs": [
    {
     "ename": "AttributeError",
     "evalue": "'DataFrame' object has no attribute 'vocab'",
     "output_type": "error",
     "traceback": [
      "\u001b[1;31m----------------------------------------------\u001b[0m",
      "\u001b[1;31mAttributeError\u001b[0mTraceback (most recent call last)",
      "\u001b[1;32m<ipython-input-28-28b27810fffc>\u001b[0m in \u001b[0;36m<module>\u001b[1;34m\u001b[0m\n\u001b[1;32m----> 1\u001b[1;33m \u001b[0mdata\u001b[0m \u001b[1;33m=\u001b[0m \u001b[0mreview\u001b[0m\u001b[1;33m.\u001b[0m\u001b[0mvocab\u001b[0m\u001b[1;33m(\u001b[0m\u001b[1;33m)\u001b[0m\u001b[1;33m.\u001b[0m\u001b[0mmost_common\u001b[0m\u001b[1;33m(\u001b[0m\u001b[1;36m150\u001b[0m\u001b[1;33m)\u001b[0m                 \u001b[1;31m## 가장 많이 발생한 단어를 선택한다.\u001b[0m\u001b[1;33m\u001b[0m\u001b[1;33m\u001b[0m\u001b[0m\n\u001b[0m",
      "\u001b[1;32m~\\anaconda3\\envs\\pydatavenv\\lib\\site-packages\\pandas\\core\\generic.py\u001b[0m in \u001b[0;36m__getattr__\u001b[1;34m(self, name)\u001b[0m\n\u001b[0;32m   5463\u001b[0m             \u001b[1;32mif\u001b[0m \u001b[0mself\u001b[0m\u001b[1;33m.\u001b[0m\u001b[0m_info_axis\u001b[0m\u001b[1;33m.\u001b[0m\u001b[0m_can_hold_identifiers_and_holds_name\u001b[0m\u001b[1;33m(\u001b[0m\u001b[0mname\u001b[0m\u001b[1;33m)\u001b[0m\u001b[1;33m:\u001b[0m\u001b[1;33m\u001b[0m\u001b[1;33m\u001b[0m\u001b[0m\n\u001b[0;32m   5464\u001b[0m                 \u001b[1;32mreturn\u001b[0m \u001b[0mself\u001b[0m\u001b[1;33m[\u001b[0m\u001b[0mname\u001b[0m\u001b[1;33m]\u001b[0m\u001b[1;33m\u001b[0m\u001b[1;33m\u001b[0m\u001b[0m\n\u001b[1;32m-> 5465\u001b[1;33m             \u001b[1;32mreturn\u001b[0m \u001b[0mobject\u001b[0m\u001b[1;33m.\u001b[0m\u001b[0m__getattribute__\u001b[0m\u001b[1;33m(\u001b[0m\u001b[0mself\u001b[0m\u001b[1;33m,\u001b[0m \u001b[0mname\u001b[0m\u001b[1;33m)\u001b[0m\u001b[1;33m\u001b[0m\u001b[1;33m\u001b[0m\u001b[0m\n\u001b[0m\u001b[0;32m   5466\u001b[0m \u001b[1;33m\u001b[0m\u001b[0m\n\u001b[0;32m   5467\u001b[0m     \u001b[1;32mdef\u001b[0m \u001b[0m__setattr__\u001b[0m\u001b[1;33m(\u001b[0m\u001b[0mself\u001b[0m\u001b[1;33m,\u001b[0m \u001b[0mname\u001b[0m\u001b[1;33m:\u001b[0m \u001b[0mstr\u001b[0m\u001b[1;33m,\u001b[0m \u001b[0mvalue\u001b[0m\u001b[1;33m)\u001b[0m \u001b[1;33m->\u001b[0m \u001b[1;32mNone\u001b[0m\u001b[1;33m:\u001b[0m\u001b[1;33m\u001b[0m\u001b[1;33m\u001b[0m\u001b[0m\n",
      "\u001b[1;31mAttributeError\u001b[0m: 'DataFrame' object has no attribute 'vocab'"
     ]
    }
   ],
   "source": [
    "data = review.vocab().most_common(150)                 ## 가장 많이 발생한 단어를 선택한다. "
   ]
  },
  {
   "cell_type": "code",
   "execution_count": 29,
   "metadata": {},
   "outputs": [
    {
     "ename": "NameError",
     "evalue": "name 'data' is not defined",
     "output_type": "error",
     "traceback": [
      "\u001b[1;31m----------------------------------------------\u001b[0m",
      "\u001b[1;31mNameError\u001b[0m    Traceback (most recent call last)",
      "\u001b[1;32m<ipython-input-29-0b1a0d7c56cb>\u001b[0m in \u001b[0;36m<module>\u001b[1;34m\u001b[0m\n\u001b[0;32m      2\u001b[0m                       \u001b[0mrelative_scaling\u001b[0m \u001b[1;33m=\u001b[0m \u001b[1;36m0.2\u001b[0m\u001b[1;33m,\u001b[0m\u001b[1;33m\u001b[0m\u001b[1;33m\u001b[0m\u001b[0m\n\u001b[0;32m      3\u001b[0m                       \u001b[0mbackground_color\u001b[0m\u001b[1;33m=\u001b[0m\u001b[1;34m'white'\u001b[0m\u001b[1;33m,\u001b[0m\u001b[1;33m\u001b[0m\u001b[1;33m\u001b[0m\u001b[0m\n\u001b[1;32m----> 4\u001b[1;33m                       ).generate_from_frequencies(dict(data))             ## .단어별 빈도수를 딕셔너리로 변환해서 전달한다 \n\u001b[0m\u001b[0;32m      5\u001b[0m \u001b[0mplt\u001b[0m\u001b[1;33m.\u001b[0m\u001b[0mfigure\u001b[0m\u001b[1;33m(\u001b[0m\u001b[0mfigsize\u001b[0m\u001b[1;33m=\u001b[0m\u001b[1;33m(\u001b[0m\u001b[1;36m10\u001b[0m\u001b[1;33m,\u001b[0m\u001b[1;36m6\u001b[0m\u001b[1;33m)\u001b[0m\u001b[1;33m)\u001b[0m\u001b[1;33m\u001b[0m\u001b[1;33m\u001b[0m\u001b[0m\n\u001b[0;32m      6\u001b[0m \u001b[0mplt\u001b[0m\u001b[1;33m.\u001b[0m\u001b[0mimshow\u001b[0m\u001b[1;33m(\u001b[0m\u001b[0mwc\u001b[0m\u001b[1;33m)\u001b[0m                                                      \u001b[1;31m## .이미지를 출력한다\u001b[0m\u001b[1;33m\u001b[0m\u001b[1;33m\u001b[0m\u001b[0m\n",
      "\u001b[1;31mNameError\u001b[0m: name 'data' is not defined"
     ]
    }
   ],
   "source": [
    "wc = WordCloud(font_path=myfontpath,                                    ## .한글에 대한 위치를 표시한다. \n",
    "                      relative_scaling = 0.2,\n",
    "                      background_color='white',\n",
    "                      ).generate_from_frequencies(dict(data))             ## .단어별 빈도수를 딕셔너리로 변환해서 전달한다 \n",
    "plt.figure(figsize=(10,6))\n",
    "plt.imshow(wc)                                                      ## .이미지를 출력한다 \n",
    "plt.axis(\"off\")                                                            ## 그래프에 대한 축을 표시하지 않는다 \n",
    "plt.show()"
   ]
  }
 ],
 "metadata": {
  "kernelspec": {
   "display_name": "pydatavenv",
   "language": "python",
   "name": "pydatavenv"
  },
  "language_info": {
   "codemirror_mode": {
    "name": "ipython",
    "version": 3
   },
   "file_extension": ".py",
   "mimetype": "text/x-python",
   "name": "python",
   "nbconvert_exporter": "python",
   "pygments_lexer": "ipython3",
   "version": "3.8.8"
  }
 },
 "nbformat": 4,
 "nbformat_minor": 4
}
