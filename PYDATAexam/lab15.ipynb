{
 "cells": [
  {
   "cell_type": "code",
   "execution_count": 8,
   "metadata": {},
   "outputs": [
    {
     "data": {
      "text/html": [
       "<div>\n",
       "<style scoped>\n",
       "    .dataframe tbody tr th:only-of-type {\n",
       "        vertical-align: middle;\n",
       "    }\n",
       "\n",
       "    .dataframe tbody tr th {\n",
       "        vertical-align: top;\n",
       "    }\n",
       "\n",
       "    .dataframe thead th {\n",
       "        text-align: right;\n",
       "    }\n",
       "</style>\n",
       "<table border=\"1\" class=\"dataframe\">\n",
       "  <thead>\n",
       "    <tr style=\"text-align: right;\">\n",
       "      <th></th>\n",
       "      <th>sepal_length</th>\n",
       "      <th>sepal_width</th>\n",
       "      <th>petal_length</th>\n",
       "      <th>petal_width</th>\n",
       "    </tr>\n",
       "  </thead>\n",
       "  <tbody>\n",
       "    <tr>\n",
       "      <th>0</th>\n",
       "      <td>NaN</td>\n",
       "      <td>3.5</td>\n",
       "      <td>1.4</td>\n",
       "      <td>0.2</td>\n",
       "    </tr>\n",
       "    <tr>\n",
       "      <th>1</th>\n",
       "      <td>4.9</td>\n",
       "      <td>3.0</td>\n",
       "      <td>1.4</td>\n",
       "      <td>0.2</td>\n",
       "    </tr>\n",
       "    <tr>\n",
       "      <th>2</th>\n",
       "      <td>4.7</td>\n",
       "      <td>NaN</td>\n",
       "      <td>1.3</td>\n",
       "      <td>0.2</td>\n",
       "    </tr>\n",
       "    <tr>\n",
       "      <th>3</th>\n",
       "      <td>4.6</td>\n",
       "      <td>3.1</td>\n",
       "      <td>1.5</td>\n",
       "      <td>NaN</td>\n",
       "    </tr>\n",
       "    <tr>\n",
       "      <th>4</th>\n",
       "      <td>5.0</td>\n",
       "      <td>3.6</td>\n",
       "      <td>1.4</td>\n",
       "      <td>0.2</td>\n",
       "    </tr>\n",
       "    <tr>\n",
       "      <th>5</th>\n",
       "      <td>5.4</td>\n",
       "      <td>NaN</td>\n",
       "      <td>1.7</td>\n",
       "      <td>0.4</td>\n",
       "    </tr>\n",
       "    <tr>\n",
       "      <th>6</th>\n",
       "      <td>4.6</td>\n",
       "      <td>NaN</td>\n",
       "      <td>1.4</td>\n",
       "      <td>0.3</td>\n",
       "    </tr>\n",
       "    <tr>\n",
       "      <th>7</th>\n",
       "      <td>NaN</td>\n",
       "      <td>NaN</td>\n",
       "      <td>1.5</td>\n",
       "      <td>NaN</td>\n",
       "    </tr>\n",
       "    <tr>\n",
       "      <th>8</th>\n",
       "      <td>4.4</td>\n",
       "      <td>2.9</td>\n",
       "      <td>NaN</td>\n",
       "      <td>0.2</td>\n",
       "    </tr>\n",
       "    <tr>\n",
       "      <th>9</th>\n",
       "      <td>4.9</td>\n",
       "      <td>3.1</td>\n",
       "      <td>1.5</td>\n",
       "      <td>0.1</td>\n",
       "    </tr>\n",
       "  </tbody>\n",
       "</table>\n",
       "</div>"
      ],
      "text/plain": [
       "   sepal_length  sepal_width  petal_length  petal_width\n",
       "0           NaN          3.5           1.4          0.2\n",
       "1           4.9          3.0           1.4          0.2\n",
       "2           4.7          NaN           1.3          0.2\n",
       "3           4.6          3.1           1.5          NaN\n",
       "4           5.0          3.6           1.4          0.2\n",
       "5           5.4          NaN           1.7          0.4\n",
       "6           4.6          NaN           1.4          0.3\n",
       "7           NaN          NaN           1.5          NaN\n",
       "8           4.4          2.9           NaN          0.2\n",
       "9           4.9          3.1           1.5          0.1"
      ]
     },
     "execution_count": 8,
     "metadata": {},
     "output_type": "execute_result"
    }
   ],
   "source": [
    "# 1\n",
    "import pandas as pd\n",
    "import seaborn as sns\n",
    "import numpy as np\n",
    "iris = sns.load_dataset(\"iris\")\n",
    "iris_x = iris.loc[:,['sepal_length', 'sepal_width',\n",
    "            'petal_length', 'petal_width']]\n",
    "import random\n",
    "random.seed(1)\n",
    "for col in range(4):\n",
    "    iris_x.iloc[[random.sample(range(len(iris)), 20)], col] = float('nan')\n",
    "iris_x.head(10)\n"
   ]
  },
  {
   "cell_type": "code",
   "execution_count": 9,
   "metadata": {},
   "outputs": [
    {
     "data": {
      "text/html": [
       "<div>\n",
       "<style scoped>\n",
       "    .dataframe tbody tr th:only-of-type {\n",
       "        vertical-align: middle;\n",
       "    }\n",
       "\n",
       "    .dataframe tbody tr th {\n",
       "        vertical-align: top;\n",
       "    }\n",
       "\n",
       "    .dataframe thead th {\n",
       "        text-align: right;\n",
       "    }\n",
       "</style>\n",
       "<table border=\"1\" class=\"dataframe\">\n",
       "  <thead>\n",
       "    <tr style=\"text-align: right;\">\n",
       "      <th></th>\n",
       "      <th>sepal_length</th>\n",
       "      <th>sepal_width</th>\n",
       "      <th>petal_length</th>\n",
       "      <th>petal_width</th>\n",
       "    </tr>\n",
       "  </thead>\n",
       "  <tbody>\n",
       "    <tr>\n",
       "      <th>1</th>\n",
       "      <td>4.9</td>\n",
       "      <td>3.0</td>\n",
       "      <td>1.4</td>\n",
       "      <td>0.2</td>\n",
       "    </tr>\n",
       "    <tr>\n",
       "      <th>4</th>\n",
       "      <td>5.0</td>\n",
       "      <td>3.6</td>\n",
       "      <td>1.4</td>\n",
       "      <td>0.2</td>\n",
       "    </tr>\n",
       "    <tr>\n",
       "      <th>9</th>\n",
       "      <td>4.9</td>\n",
       "      <td>3.1</td>\n",
       "      <td>1.5</td>\n",
       "      <td>0.1</td>\n",
       "    </tr>\n",
       "  </tbody>\n",
       "</table>\n",
       "</div>"
      ],
      "text/plain": [
       "   sepal_length  sepal_width  petal_length  petal_width\n",
       "1           4.9          3.0           1.4          0.2\n",
       "4           5.0          3.6           1.4          0.2\n",
       "9           4.9          3.1           1.5          0.1"
      ]
     },
     "execution_count": 9,
     "metadata": {},
     "output_type": "execute_result"
    }
   ],
   "source": [
    "# (1)\n",
    "\n",
    "iris_x.head(10).dropna(axis=0)"
   ]
  },
  {
   "cell_type": "code",
   "execution_count": 12,
   "metadata": {},
   "outputs": [
    {
     "data": {
      "text/html": [
       "<div>\n",
       "<style scoped>\n",
       "    .dataframe tbody tr th:only-of-type {\n",
       "        vertical-align: middle;\n",
       "    }\n",
       "\n",
       "    .dataframe tbody tr th {\n",
       "        vertical-align: top;\n",
       "    }\n",
       "\n",
       "    .dataframe thead th {\n",
       "        text-align: right;\n",
       "    }\n",
       "</style>\n",
       "<table border=\"1\" class=\"dataframe\">\n",
       "  <thead>\n",
       "    <tr style=\"text-align: right;\">\n",
       "      <th></th>\n",
       "      <th>sepal_length</th>\n",
       "      <th>sepal_width</th>\n",
       "      <th>petal_length</th>\n",
       "      <th>petal_width</th>\n",
       "    </tr>\n",
       "  </thead>\n",
       "  <tbody>\n",
       "    <tr>\n",
       "      <th>1</th>\n",
       "      <td>4.9</td>\n",
       "      <td>3.0</td>\n",
       "      <td>1.4</td>\n",
       "      <td>0.2</td>\n",
       "    </tr>\n",
       "    <tr>\n",
       "      <th>4</th>\n",
       "      <td>5.0</td>\n",
       "      <td>3.6</td>\n",
       "      <td>1.4</td>\n",
       "      <td>0.2</td>\n",
       "    </tr>\n",
       "    <tr>\n",
       "      <th>9</th>\n",
       "      <td>4.9</td>\n",
       "      <td>3.1</td>\n",
       "      <td>1.5</td>\n",
       "      <td>0.1</td>\n",
       "    </tr>\n",
       "  </tbody>\n",
       "</table>\n",
       "</div>"
      ],
      "text/plain": [
       "   sepal_length  sepal_width  petal_length  petal_width\n",
       "1           4.9          3.0           1.4          0.2\n",
       "4           5.0          3.6           1.4          0.2\n",
       "9           4.9          3.1           1.5          0.1"
      ]
     },
     "execution_count": 12,
     "metadata": {},
     "output_type": "execute_result"
    }
   ],
   "source": [
    "# (2)\n",
    "\n",
    "\n",
    "iris_x.head(10).dropna(axis=0)"
   ]
  },
  {
   "cell_type": "code",
   "execution_count": 31,
   "metadata": {},
   "outputs": [
    {
     "data": {
      "text/html": [
       "<div>\n",
       "<style scoped>\n",
       "    .dataframe tbody tr th:only-of-type {\n",
       "        vertical-align: middle;\n",
       "    }\n",
       "\n",
       "    .dataframe tbody tr th {\n",
       "        vertical-align: top;\n",
       "    }\n",
       "\n",
       "    .dataframe thead th {\n",
       "        text-align: right;\n",
       "    }\n",
       "</style>\n",
       "<table border=\"1\" class=\"dataframe\">\n",
       "  <thead>\n",
       "    <tr style=\"text-align: right;\">\n",
       "      <th></th>\n",
       "      <th>sepal_length</th>\n",
       "      <th>sepal_width</th>\n",
       "      <th>petal_length</th>\n",
       "      <th>petal_width</th>\n",
       "    </tr>\n",
       "  </thead>\n",
       "  <tbody>\n",
       "    <tr>\n",
       "      <th>0</th>\n",
       "      <td>NaN</td>\n",
       "      <td>3.5</td>\n",
       "      <td>1.4</td>\n",
       "      <td>0.2</td>\n",
       "    </tr>\n",
       "    <tr>\n",
       "      <th>1</th>\n",
       "      <td>4.9</td>\n",
       "      <td>3.0</td>\n",
       "      <td>1.4</td>\n",
       "      <td>0.2</td>\n",
       "    </tr>\n",
       "    <tr>\n",
       "      <th>2</th>\n",
       "      <td>4.7</td>\n",
       "      <td>NaN</td>\n",
       "      <td>1.3</td>\n",
       "      <td>0.2</td>\n",
       "    </tr>\n",
       "    <tr>\n",
       "      <th>3</th>\n",
       "      <td>4.6</td>\n",
       "      <td>3.1</td>\n",
       "      <td>1.5</td>\n",
       "      <td>NaN</td>\n",
       "    </tr>\n",
       "    <tr>\n",
       "      <th>4</th>\n",
       "      <td>5.0</td>\n",
       "      <td>3.6</td>\n",
       "      <td>1.4</td>\n",
       "      <td>0.2</td>\n",
       "    </tr>\n",
       "    <tr>\n",
       "      <th>5</th>\n",
       "      <td>5.4</td>\n",
       "      <td>NaN</td>\n",
       "      <td>1.7</td>\n",
       "      <td>0.4</td>\n",
       "    </tr>\n",
       "    <tr>\n",
       "      <th>6</th>\n",
       "      <td>4.6</td>\n",
       "      <td>NaN</td>\n",
       "      <td>1.4</td>\n",
       "      <td>0.3</td>\n",
       "    </tr>\n",
       "    <tr>\n",
       "      <th>8</th>\n",
       "      <td>4.4</td>\n",
       "      <td>2.9</td>\n",
       "      <td>NaN</td>\n",
       "      <td>0.2</td>\n",
       "    </tr>\n",
       "    <tr>\n",
       "      <th>9</th>\n",
       "      <td>4.9</td>\n",
       "      <td>3.1</td>\n",
       "      <td>1.5</td>\n",
       "      <td>0.1</td>\n",
       "    </tr>\n",
       "    <tr>\n",
       "      <th>10</th>\n",
       "      <td>5.4</td>\n",
       "      <td>3.7</td>\n",
       "      <td>1.5</td>\n",
       "      <td>0.2</td>\n",
       "    </tr>\n",
       "  </tbody>\n",
       "</table>\n",
       "</div>"
      ],
      "text/plain": [
       "    sepal_length  sepal_width  petal_length  petal_width\n",
       "0            NaN          3.5           1.4          0.2\n",
       "1            4.9          3.0           1.4          0.2\n",
       "2            4.7          NaN           1.3          0.2\n",
       "3            4.6          3.1           1.5          NaN\n",
       "4            5.0          3.6           1.4          0.2\n",
       "5            5.4          NaN           1.7          0.4\n",
       "6            4.6          NaN           1.4          0.3\n",
       "8            4.4          2.9           NaN          0.2\n",
       "9            4.9          3.1           1.5          0.1\n",
       "10           5.4          3.7           1.5          0.2"
      ]
     },
     "metadata": {},
     "output_type": "display_data"
    }
   ],
   "source": [
    "# (3)\n",
    "df_thresh = iris_x.head(11).dropna(axis=0, thresh=3)\n",
    "display(df_thresh)"
   ]
  },
  {
   "cell_type": "code",
   "execution_count": null,
   "metadata": {},
   "outputs": [],
   "source": [
    "# (4)"
   ]
  },
  {
   "cell_type": "code",
   "execution_count": null,
   "metadata": {},
   "outputs": [],
   "source": [
    "# (5)"
   ]
  },
  {
   "cell_type": "code",
   "execution_count": null,
   "metadata": {},
   "outputs": [],
   "source": [
    "# (6)"
   ]
  },
  {
   "cell_type": "code",
   "execution_count": null,
   "metadata": {},
   "outputs": [],
   "source": [
    "# (7)"
   ]
  },
  {
   "cell_type": "code",
   "execution_count": 54,
   "metadata": {},
   "outputs": [
    {
     "name": "stdout",
     "output_type": "stream",
     "text": [
      "DatetimeIndex(['2021-04-05', '2021-04-06', '2021-04-07', '2021-04-08',\n",
      "               '2021-04-09', '2021-04-10', '2021-04-11', '2021-04-12',\n",
      "               '2021-04-13', '2021-04-14', '2021-04-15', '2021-04-16',\n",
      "               '2021-04-17', '2021-04-18', '2021-04-19', '2021-04-20',\n",
      "               '2021-04-21', '2021-04-22', '2021-04-23', '2021-04-24',\n",
      "               '2021-04-25', '2021-04-26', '2021-04-27'],\n",
      "              dtype='datetime64[ns]', freq='D')\n"
     ]
    }
   ],
   "source": [
    "# 2. Timestamp 배열의 생성\n",
    "# (1)\n",
    "import pandas as pd\n",
    "\n",
    "ts_ms = pd.date_range(start='2021-04-05',    # 날짜 범위의 시작\n",
    "                   end='2021-04-27',  freq='D')\n",
    "print(ts_ms)"
   ]
  },
  {
   "cell_type": "code",
   "execution_count": 42,
   "metadata": {},
   "outputs": [
    {
     "name": "stdout",
     "output_type": "stream",
     "text": [
      "PeriodIndex(['2021-04-05', '2021-04-06', '2021-04-07', '2021-04-08',\n",
      "             '2021-04-09', '2021-04-10', '2021-04-11', '2021-04-12',\n",
      "             '2021-04-13', '2021-04-14', '2021-04-15', '2021-04-16',\n",
      "             '2021-04-17', '2021-04-18', '2021-04-19', '2021-04-20',\n",
      "             '2021-04-21', '2021-04-22', '2021-04-23', '2021-04-24',\n",
      "             '2021-04-25', '2021-04-26', '2021-04-27', '2021-04-28',\n",
      "             '2021-04-29', '2021-04-30', '2021-05-01', '2021-05-02',\n",
      "             '2021-05-03', '2021-05-04', '2021-05-05', '2021-05-06',\n",
      "             '2021-05-07', '2021-05-08', '2021-05-09', '2021-05-10',\n",
      "             '2021-05-11', '2021-05-12', '2021-05-13', '2021-05-14',\n",
      "             '2021-05-15', '2021-05-16', '2021-05-17', '2021-05-18',\n",
      "             '2021-05-19', '2021-05-20', '2021-05-21', '2021-05-22',\n",
      "             '2021-05-23', '2021-05-24', '2021-05-25', '2021-05-26',\n",
      "             '2021-05-27', '2021-05-28', '2021-05-29', '2021-05-30',\n",
      "             '2021-05-31', '2021-06-01', '2021-06-02', '2021-06-03',\n",
      "             '2021-06-04'],\n",
      "            dtype='period[D]', freq='D')\n"
     ]
    }
   ],
   "source": [
    "# (2)\n",
    "\n",
    "import pandas as pd\n",
    "\n",
    "pr_61 = pd.period_range(start='2021-04-05',    # 날짜 범위의 시작\n",
    "                   end=None,                   # 날짜 범위의 끝\n",
    "                   periods=61,                  # 생성할 Period 개수\n",
    "                   freq='D')                  # 기간의 길이 (H: 시간)\n",
    "print(pr_61)"
   ]
  },
  {
   "cell_type": "code",
   "execution_count": 45,
   "metadata": {},
   "outputs": [
    {
     "name": "stdout",
     "output_type": "stream",
     "text": [
      "DatetimeIndex(['2021-01-31', '2021-02-28', '2021-03-31', '2021-04-30',\n",
      "               '2021-05-31', '2021-06-30', '2021-07-31', '2021-08-31',\n",
      "               '2021-09-30', '2021-10-31', '2021-11-30', '2021-12-31'],\n",
      "              dtype='datetime64[ns]', freq='M')\n"
     ]
    }
   ],
   "source": [
    "# (3)\n",
    "\n",
    "import pandas as pd\n",
    "\n",
    "ts_me = pd.date_range('2021-01-01', periods=12, \n",
    "                   freq='M')       # 시간대(timezone)\n",
    "print(ts_me)\n",
    "\n"
   ]
  },
  {
   "cell_type": "code",
   "execution_count": 56,
   "metadata": {},
   "outputs": [
    {
     "name": "stdout",
     "output_type": "stream",
     "text": [
      "DatetimeIndex(['2021-01-01', '2021-02-01', '2021-03-01', '2021-04-01',\n",
      "               '2021-05-01', '2021-06-01', '2021-07-01', '2021-08-01',\n",
      "               '2021-09-01', '2021-10-01', '2021-11-01', '2021-12-01'],\n",
      "              dtype='datetime64[ns]', freq='MS')\n"
     ]
    }
   ],
   "source": [
    "# (4)\n",
    "\n",
    "import pandas as pd\n",
    "\n",
    "ts_ms = pd.date_range('2021-01-01', periods=12, \n",
    "                   freq='MS')       # 시간대(timezone)\n",
    "print(ts_ms)\n"
   ]
  },
  {
   "cell_type": "code",
   "execution_count": 59,
   "metadata": {},
   "outputs": [
    {
     "name": "stdout",
     "output_type": "stream",
     "text": [
      "PeriodIndex(['2021-04-05 00:00', '2021-04-05 01:00', '2021-04-05 02:00',\n",
      "             '2021-04-05 03:00', '2021-04-05 04:00', '2021-04-05 05:00',\n",
      "             '2021-04-05 06:00', '2021-04-05 07:00', '2021-04-05 08:00',\n",
      "             '2021-04-05 09:00', '2021-04-05 10:00', '2021-04-05 11:00',\n",
      "             '2021-04-05 12:00', '2021-04-05 13:00', '2021-04-05 14:00',\n",
      "             '2021-04-05 15:00', '2021-04-05 16:00', '2021-04-05 17:00',\n",
      "             '2021-04-05 18:00', '2021-04-05 19:00', '2021-04-05 20:00',\n",
      "             '2021-04-05 21:00', '2021-04-05 22:00', '2021-04-05 23:00',\n",
      "             '2021-04-06 00:00', '2021-04-06 01:00', '2021-04-06 02:00',\n",
      "             '2021-04-06 03:00', '2021-04-06 04:00', '2021-04-06 05:00',\n",
      "             '2021-04-06 06:00', '2021-04-06 07:00', '2021-04-06 08:00',\n",
      "             '2021-04-06 09:00', '2021-04-06 10:00', '2021-04-06 11:00',\n",
      "             '2021-04-06 12:00', '2021-04-06 13:00', '2021-04-06 14:00',\n",
      "             '2021-04-06 15:00', '2021-04-06 16:00', '2021-04-06 17:00',\n",
      "             '2021-04-06 18:00', '2021-04-06 19:00', '2021-04-06 20:00',\n",
      "             '2021-04-06 21:00', '2021-04-06 22:00', '2021-04-06 23:00',\n",
      "             '2021-04-07 00:00', '2021-04-07 01:00', '2021-04-07 02:00',\n",
      "             '2021-04-07 03:00', '2021-04-07 04:00', '2021-04-07 05:00',\n",
      "             '2021-04-07 06:00', '2021-04-07 07:00', '2021-04-07 08:00',\n",
      "             '2021-04-07 09:00', '2021-04-07 10:00', '2021-04-07 11:00',\n",
      "             '2021-04-07 12:00', '2021-04-07 13:00', '2021-04-07 14:00',\n",
      "             '2021-04-07 15:00', '2021-04-07 16:00', '2021-04-07 17:00',\n",
      "             '2021-04-07 18:00', '2021-04-07 19:00', '2021-04-07 20:00',\n",
      "             '2021-04-07 21:00', '2021-04-07 22:00', '2021-04-07 23:00',\n",
      "             '2021-04-08 00:00', '2021-04-08 01:00', '2021-04-08 02:00',\n",
      "             '2021-04-08 03:00', '2021-04-08 04:00', '2021-04-08 05:00',\n",
      "             '2021-04-08 06:00', '2021-04-08 07:00', '2021-04-08 08:00',\n",
      "             '2021-04-08 09:00', '2021-04-08 10:00', '2021-04-08 11:00',\n",
      "             '2021-04-08 12:00', '2021-04-08 13:00', '2021-04-08 14:00',\n",
      "             '2021-04-08 15:00', '2021-04-08 16:00', '2021-04-08 17:00',\n",
      "             '2021-04-08 18:00', '2021-04-08 19:00', '2021-04-08 20:00',\n",
      "             '2021-04-08 21:00', '2021-04-08 22:00', '2021-04-08 23:00',\n",
      "             '2021-04-09 00:00'],\n",
      "            dtype='period[H]', freq='H')\n"
     ]
    }
   ],
   "source": [
    "# (5)\n",
    "\n",
    "import pandas as pd\n",
    "\n",
    "pr_time = pd.period_range(start='2021-04-05',    # 날짜 범위의 시작\n",
    "                   end='2021-04-09',                   # 날짜 범위의 끝\n",
    "                    freq='H')                  # 기간의 길이 (H: 시간)\n",
    "print(pr_time)"
   ]
  },
  {
   "cell_type": "code",
   "execution_count": 62,
   "metadata": {},
   "outputs": [
    {
     "name": "stdout",
     "output_type": "stream",
     "text": [
      "PeriodIndex(['2021-04-01 00:00', '2021-04-01 03:00', '2021-04-01 06:00',\n",
      "             '2021-04-01 09:00', '2021-04-01 12:00', '2021-04-01 15:00',\n",
      "             '2021-04-01 18:00', '2021-04-01 21:00', '2021-04-02 00:00',\n",
      "             '2021-04-02 03:00',\n",
      "             ...\n",
      "             '2021-04-25 21:00', '2021-04-26 00:00', '2021-04-26 03:00',\n",
      "             '2021-04-26 06:00', '2021-04-26 09:00', '2021-04-26 12:00',\n",
      "             '2021-04-26 15:00', '2021-04-26 18:00', '2021-04-26 21:00',\n",
      "             '2021-04-27 00:00'],\n",
      "            dtype='period[3H]', length=209, freq='3H')\n"
     ]
    }
   ],
   "source": [
    "# (6)\n",
    "\n",
    "import pandas as pd\n",
    "\n",
    "pr_time = pd.period_range(start='2021-04-01',    # 날짜 범위의 시작\n",
    "                   end='2021-04-27',                   # 날짜 범위의 끝\n",
    "                    freq='3H')                  # 기간의 길이 (H: 시간)\n",
    "print(pr_time)"
   ]
  },
  {
   "cell_type": "code",
   "execution_count": 67,
   "metadata": {},
   "outputs": [
    {
     "name": "stdout",
     "output_type": "stream",
     "text": [
      "PeriodIndex(['2021-01', '2021-03', '2021-05', '2021-07', '2021-09', '2021-11',\n",
      "             '2022-01', '2022-03'],\n",
      "            dtype='period[2M]', freq='2M')\n"
     ]
    }
   ],
   "source": [
    "# (7)\n",
    "\n",
    "import pandas as pd\n",
    "\n",
    "pr_2m = pd.period_range(start='2021-01-31',    # 날짜 범위의 시작\n",
    "                          periods = 8,\n",
    "                          freq='2M')                  # 기간의 길이 (H: 시간)\n",
    "print(pr_2m)"
   ]
  },
  {
   "cell_type": "code",
   "execution_count": 105,
   "metadata": {},
   "outputs": [
    {
     "name": "stdout",
     "output_type": "stream",
     "text": [
      "              0     1\n",
      "0  201612120944  p001\n",
      "1  201612120944  p003\n",
      "2  201612120944  p003\n",
      "3  201612120945  p008\n",
      "4  201612121052  p008\n",
      "<class 'pandas.core.frame.DataFrame'>\n",
      "RangeIndex: 310 entries, 0 to 309\n",
      "Data columns (total 2 columns):\n",
      " #   Column  Non-Null Count  Dtype \n",
      "---  ------  --------------  ----- \n",
      " 0   0       310 non-null    int64 \n",
      " 1   1       310 non-null    object\n",
      "dtypes: int64(1), object(1)\n",
      "memory usage: 5.0+ KB\n",
      "None\n"
     ]
    }
   ],
   "source": [
    "# 3. product_click.log 파일을 읽어 데이터프레임 객체 생성\n",
    "import pandas as pd\n",
    "\n",
    "# read_csv() 함수로 파일 읽어와서 df로 변환\n",
    "df = pd.read_csv('data/product_click_new.log', header =None, sep = \" \")\n",
    "\n",
    "print(df.head(5))\n",
    "print(df.info())\n"
   ]
  },
  {
   "cell_type": "code",
   "execution_count": null,
   "metadata": {},
   "outputs": [],
   "source": [
    "# (1)"
   ]
  },
  {
   "cell_type": "code",
   "execution_count": null,
   "metadata": {},
   "outputs": [],
   "source": [
    "# (2)"
   ]
  },
  {
   "cell_type": "code",
   "execution_count": null,
   "metadata": {},
   "outputs": [],
   "source": [
    "# (3)"
   ]
  },
  {
   "cell_type": "code",
   "execution_count": null,
   "metadata": {},
   "outputs": [],
   "source": [
    "# (4)"
   ]
  },
  {
   "cell_type": "code",
   "execution_count": null,
   "metadata": {},
   "outputs": [],
   "source": [
    "# (5)"
   ]
  }
 ],
 "metadata": {
  "kernelspec": {
   "display_name": "pydatavenv",
   "language": "python",
   "name": "pydatavenv"
  },
  "language_info": {
   "codemirror_mode": {
    "name": "ipython",
    "version": 3
   },
   "file_extension": ".py",
   "mimetype": "text/x-python",
   "name": "python",
   "nbconvert_exporter": "python",
   "pygments_lexer": "ipython3",
   "version": "3.8.8"
  }
 },
 "nbformat": 4,
 "nbformat_minor": 4
}
